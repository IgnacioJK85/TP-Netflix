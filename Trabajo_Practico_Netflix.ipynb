{
  "cells": [
    {
      "cell_type": "markdown",
      "metadata": {
        "id": "H-fh8mtpm7ad"
      },
      "source": [
        "\n",
        "# Trabajo Práctico Netflix\n",
        "#### Integrantes: Lucas Crespo, Nicolás Cuenca, Ignacio J. Kirchuk y Santiago Resnik \n",
        "[Link](https://docs.google.com/document/d/10WfCkmVFVB0ajJueBD7F5wmoKHKfUKGWVbcCIragSKk/edit)\n",
        "\n",
        "Objetivos:\n",
        "- Contabilizar el dispositivo con el que más títulos se reprodujeron.\n",
        "- Encontrar la película con más ocurrencias y la película con mayor duración total.\n",
        "- Generar un TOP “N” de series vistas y graficar.\n",
        "  - Por tiempo visto\n",
        "  - Por ocurrencias\n",
        "- Visualizar una semana de reproducciones genérica, en función a las reproducciones por día y por horario de todos los años del repo.\n",
        "- Contabilizar la cantidad de títulos vistos por año, graficar su variación a través de los años.\n",
        "- Total de días de todos los títulos reproducidos.\n"
      ]
    },
    {
      "cell_type": "markdown",
      "metadata": {
        "id": "lwWPnonRo9QW"
      },
      "source": [
        "# Imports"
      ]
    },
    {
      "cell_type": "code",
      "execution_count": 1,
      "metadata": {
        "id": "nuGF4rDPm3gy"
      },
      "outputs": [],
      "source": [
        "import pandas as pd\n",
        "import matplotlib.pyplot as plt\n",
        "from datetime import datetime\n",
        "from datetime import timedelta\n",
        "import numpy as np"
      ]
    },
    {
      "cell_type": "markdown",
      "metadata": {
        "id": "yj20jUAzp7ax"
      },
      "source": [
        "# Leer CSV"
      ]
    },
    {
      "cell_type": "code",
      "execution_count": 6,
      "metadata": {
        "id": "n_Hs1_EUo7O9"
      },
      "outputs": [],
      "source": [
        "banned = ['Sony ps4', 'Netflix Windows App - Cadmium Windows Mobile','Apple iPhone 6s','Apple iPhone 7 Plus (CDMA)','Chrome PC (Cadmium)', 'Samsung 2015 NT14M DTV Smart TV','iPhone 5S GSM','Google Chromecast V3 Streaming Stick']\n",
        "df = pd.read_csv(\"NetflixHistory.csv\") # Cargar el CSV\n",
        "for i in banned: # Recorre la lista de los dispositivos baneados\n",
        "  df = df.drop(df[df['Device Type'] == i].index) # Elimina los indices que tengan los dispositivos baneados"
      ]
    },
    {
      "cell_type": "markdown",
      "metadata": {
        "id": "xh-mbXbVwchb"
      },
      "source": [
        "# Ejercicio A\n",
        "### Contabilizar el dispositivo con el que más títulos se reprodujeron."
      ]
    },
    {
      "cell_type": "code",
      "execution_count": 7,
      "metadata": {
        "colab": {
          "base_uri": "https://localhost:8080/"
        },
        "id": "WnWN1vlosSm6",
        "outputId": "905dae19-bca8-42c5-8507-e73142262dea"
      },
      "outputs": [
        {
          "output_type": "stream",
          "name": "stdout",
          "text": [
            "El dispositivo mas usado es: Apple Apple TV 4 Apple TV con 3519 usos\n"
          ]
        }
      ],
      "source": [
        "devices = df['Device Type'].value_counts() # Obtiene todas las veces que aparecen los dispositivos en la comuna\n",
        "print(\"El dispositivo mas usado es: {} con {} usos\".format(devices.idxmax(), devices[0]))"
      ]
    },
    {
      "cell_type": "markdown",
      "metadata": {
        "id": "HKCYXGbKyIFb"
      },
      "source": [
        "# Ejercicio B\n",
        "### Encontrar la película con más ocurrencias y la película con mayor duración total."
      ]
    },
    {
      "cell_type": "code",
      "execution_count": 8,
      "metadata": {
        "colab": {
          "base_uri": "https://localhost:8080/",
          "height": 99
        },
        "id": "0WG0o4EEsSUN",
        "outputId": "225518ac-04d9-413d-8538-8156ef5f4140"
      },
      "outputs": [
        {
          "output_type": "stream",
          "name": "stdout",
          "text": [
            "La película más vista fue El código enigma con 7 ocurrencias\n"
          ]
        },
        {
          "output_type": "execute_result",
          "data": {
            "text/plain": [
              "               Title  Duration\n",
              "4654  Sueños de fuga  02:20:46"
            ],
            "text/html": [
              "\n",
              "  <div id=\"df-e61e6771-7d71-400c-b5d3-d38c5336b03d\">\n",
              "    <div class=\"colab-df-container\">\n",
              "      <div>\n",
              "<style scoped>\n",
              "    .dataframe tbody tr th:only-of-type {\n",
              "        vertical-align: middle;\n",
              "    }\n",
              "\n",
              "    .dataframe tbody tr th {\n",
              "        vertical-align: top;\n",
              "    }\n",
              "\n",
              "    .dataframe thead th {\n",
              "        text-align: right;\n",
              "    }\n",
              "</style>\n",
              "<table border=\"1\" class=\"dataframe\">\n",
              "  <thead>\n",
              "    <tr style=\"text-align: right;\">\n",
              "      <th></th>\n",
              "      <th>Title</th>\n",
              "      <th>Duration</th>\n",
              "    </tr>\n",
              "  </thead>\n",
              "  <tbody>\n",
              "    <tr>\n",
              "      <th>4654</th>\n",
              "      <td>Sueños de fuga</td>\n",
              "      <td>02:20:46</td>\n",
              "    </tr>\n",
              "  </tbody>\n",
              "</table>\n",
              "</div>\n",
              "      <button class=\"colab-df-convert\" onclick=\"convertToInteractive('df-e61e6771-7d71-400c-b5d3-d38c5336b03d')\"\n",
              "              title=\"Convert this dataframe to an interactive table.\"\n",
              "              style=\"display:none;\">\n",
              "        \n",
              "  <svg xmlns=\"http://www.w3.org/2000/svg\" height=\"24px\"viewBox=\"0 0 24 24\"\n",
              "       width=\"24px\">\n",
              "    <path d=\"M0 0h24v24H0V0z\" fill=\"none\"/>\n",
              "    <path d=\"M18.56 5.44l.94 2.06.94-2.06 2.06-.94-2.06-.94-.94-2.06-.94 2.06-2.06.94zm-11 1L8.5 8.5l.94-2.06 2.06-.94-2.06-.94L8.5 2.5l-.94 2.06-2.06.94zm10 10l.94 2.06.94-2.06 2.06-.94-2.06-.94-.94-2.06-.94 2.06-2.06.94z\"/><path d=\"M17.41 7.96l-1.37-1.37c-.4-.4-.92-.59-1.43-.59-.52 0-1.04.2-1.43.59L10.3 9.45l-7.72 7.72c-.78.78-.78 2.05 0 2.83L4 21.41c.39.39.9.59 1.41.59.51 0 1.02-.2 1.41-.59l7.78-7.78 2.81-2.81c.8-.78.8-2.07 0-2.86zM5.41 20L4 18.59l7.72-7.72 1.47 1.35L5.41 20z\"/>\n",
              "  </svg>\n",
              "      </button>\n",
              "      \n",
              "  <style>\n",
              "    .colab-df-container {\n",
              "      display:flex;\n",
              "      flex-wrap:wrap;\n",
              "      gap: 12px;\n",
              "    }\n",
              "\n",
              "    .colab-df-convert {\n",
              "      background-color: #E8F0FE;\n",
              "      border: none;\n",
              "      border-radius: 50%;\n",
              "      cursor: pointer;\n",
              "      display: none;\n",
              "      fill: #1967D2;\n",
              "      height: 32px;\n",
              "      padding: 0 0 0 0;\n",
              "      width: 32px;\n",
              "    }\n",
              "\n",
              "    .colab-df-convert:hover {\n",
              "      background-color: #E2EBFA;\n",
              "      box-shadow: 0px 1px 2px rgba(60, 64, 67, 0.3), 0px 1px 3px 1px rgba(60, 64, 67, 0.15);\n",
              "      fill: #174EA6;\n",
              "    }\n",
              "\n",
              "    [theme=dark] .colab-df-convert {\n",
              "      background-color: #3B4455;\n",
              "      fill: #D2E3FC;\n",
              "    }\n",
              "\n",
              "    [theme=dark] .colab-df-convert:hover {\n",
              "      background-color: #434B5C;\n",
              "      box-shadow: 0px 1px 3px 1px rgba(0, 0, 0, 0.15);\n",
              "      filter: drop-shadow(0px 1px 2px rgba(0, 0, 0, 0.3));\n",
              "      fill: #FFFFFF;\n",
              "    }\n",
              "  </style>\n",
              "\n",
              "      <script>\n",
              "        const buttonEl =\n",
              "          document.querySelector('#df-e61e6771-7d71-400c-b5d3-d38c5336b03d button.colab-df-convert');\n",
              "        buttonEl.style.display =\n",
              "          google.colab.kernel.accessAllowed ? 'block' : 'none';\n",
              "\n",
              "        async function convertToInteractive(key) {\n",
              "          const element = document.querySelector('#df-e61e6771-7d71-400c-b5d3-d38c5336b03d');\n",
              "          const dataTable =\n",
              "            await google.colab.kernel.invokeFunction('convertToInteractive',\n",
              "                                                     [key], {});\n",
              "          if (!dataTable) return;\n",
              "\n",
              "          const docLinkHtml = 'Like what you see? Visit the ' +\n",
              "            '<a target=\"_blank\" href=https://colab.research.google.com/notebooks/data_table.ipynb>data table notebook</a>'\n",
              "            + ' to learn more about interactive tables.';\n",
              "          element.innerHTML = '';\n",
              "          dataTable['output_type'] = 'display_data';\n",
              "          await google.colab.output.renderOutput(dataTable, element);\n",
              "          const docLink = document.createElement('div');\n",
              "          docLink.innerHTML = docLinkHtml;\n",
              "          element.appendChild(docLink);\n",
              "        }\n",
              "      </script>\n",
              "    </div>\n",
              "  </div>\n",
              "  "
            ]
          },
          "metadata": {},
          "execution_count": 8
        }
      ],
      "source": [
        "# Más Ocurrencias\n",
        "peliculas = df['Title']\n",
        "\n",
        "# sacar series de la lista (estoy seguro que esto está probablemente mal planteado pero en su momento lo hice un funcionó, aunque seguramente se pueda hacer llamando a un par de métodos de pandas)\n",
        "for peli in peliculas:\n",
        "  peliculas = df['Title']\n",
        "  if peli.count(\":\") > 2 or peli.__contains__(\"Temporada\") or peli.__contains__(\"Season\") or peli.__contains__(\"Clip\"): # detecta si tiene mas de dos \":\" o cualquiera de las palabras clave\n",
        "      df = df.drop(df[df['Title'] == peli].index) # saca la serie con ese titulo del df\n",
        "\n",
        "print(\"La película más vista fue {} con {} ocurrencias\".format(peliculas.value_counts().idxmax(0), peliculas.value_counts()[0]))\n",
        "\n",
        "# Mayor Duración\n",
        "\n",
        "# primero intenté hacer un algoritmo para sortearlo como si fuese una especie de lista\n",
        "\"\"\"dur_tot = [0,0,0]\n",
        "name_longest = \"\"\n",
        "for peli in peliculas:\n",
        "  durpelis = df.loc[df['Title'] == peli]['Duration'].values #agarro los valores de duración\n",
        "  to_add = [0,0,0,]\n",
        "  for durpeli in durpelis: # convierto la duración en una lista de horas-minutos-segundos\n",
        "    durpeli = durpeli.split(\":\")\n",
        "    for i in range(len(durpeli)):\n",
        "      to_add[i] += int(durpeli[i])\n",
        "      \n",
        "  for i in range(1, 3): # arreglo el recuento de horas-minutos-segundos\n",
        "    while to_add[i] >= 60:\n",
        "      to_add[i] -= 60\n",
        "      to_add[i-1] += 1\n",
        "\n",
        "  for i in range(0,3): # chequeo si es mas grande que el actualmente mas grande\n",
        "    if to_add[i] > dur_tot[i]:\n",
        "      dur_tot = to_add\n",
        "      name_longest = peli\n",
        "      break\n",
        "\n",
        "print(\"\\n\"+str(name_longest)+\" es la peli que mas tiempo fue vista. Durando \"+str(dur_tot[0])+\" horas, \"+str(dur_tot[1])+\" minutos, y \"+str(dur_tot[2])+\" segundos.\")\"\"\"\n",
        "\n",
        "# o puedo hacer (como me encontre en el video https://www.youtube.com/watch?v=T11QYVfZoD0&ab_channel=CoreySchafer)\n",
        "\n",
        "pelis = df.sort_values(by=\"Duration\", ascending=False) # sorteo por la duración en descendiente (porque si lo hago en ascendiente me da el valor mas chico)\n",
        "pelis.filter(['Title', 'Duration']).head(1) # printeo el titulo y tiempo de la peli con mas duración"
      ]
    },
    {
      "cell_type": "markdown",
      "metadata": {
        "id": "QsqMxnkVMUaw"
      },
      "source": [
        "# Ejercicio C\n",
        "###Generar un TOP “N” de series vistas y graficar.\n",
        "\n",
        "1.   Por tiempo visto\n",
        "2.   Por ocurrencias\n",
        "\n",
        "\n"
      ]
    },
    {
      "cell_type": "code",
      "execution_count": 15,
      "metadata": {
        "id": "B5C-TJE3cXWd",
        "colab": {
          "base_uri": "https://localhost:8080/",
          "height": 939
        },
        "outputId": "80a636ee-fea2-4170-8305-aec1776bb0a0"
      },
      "outputs": [
        {
          "name": "stdout",
          "output_type": "stream",
          "text": [
            "8\n"
          ]
        },
        {
          "output_type": "stream",
          "name": "stderr",
          "text": [
            "/usr/local/lib/python3.7/dist-packages/ipykernel_launcher.py:12: UserWarning: Boolean Series key will be reindexed to match DataFrame index.\n",
            "  if sys.path[0] == '':\n"
          ]
        },
        {
          "output_type": "execute_result",
          "data": {
            "text/plain": [
              "       Unnamed: 0 Profile Name           Start Time  Duration Attributes  \\\n",
              "0               0        Chona  2022-08-21 19:54:53  00:02:54        NaN   \n",
              "1               1        Chona  2022-08-21 19:33:17  00:21:33        NaN   \n",
              "2               2        Chona  2022-08-21 19:11:40  00:21:28        NaN   \n",
              "3               3        Chona  2022-08-21 18:50:27  00:20:41        NaN   \n",
              "4               4        Chona  2022-08-21 18:16:34  00:21:20        NaN   \n",
              "...           ...          ...                  ...       ...        ...   \n",
              "12992       12992        Chona  2015-01-08 19:21:21  00:04:09        NaN   \n",
              "12993       12993        Chona  2015-01-08 19:20:47  00:00:15        NaN   \n",
              "12994       12994        Chona  2015-01-08 19:18:32  00:00:37        NaN   \n",
              "12995       12995        Chona  2015-01-08 19:16:45  00:00:18        NaN   \n",
              "12996       12996        Chona  2015-01-08 19:15:14  00:00:18        NaN   \n",
              "\n",
              "                                                   Title  \\\n",
              "0      Community: Temporada 3: Teoría del caos correc...   \n",
              "1      Community: Temporada 3: Ecología competitiva (...   \n",
              "2      Community: Temporada 3: Geografía del conflict...   \n",
              "3      Community: Temporada 2: Intermediate Documenta...   \n",
              "4      Community: Temporada 3: El documental (Capítul...   \n",
              "...                                                  ...   \n",
              "12992    Lost: Temporada 1: Éxodo: Parte 1 (Capítulo 23)   \n",
              "12993  Lost: Temporada 1: Nacida para correr (Capítul...   \n",
              "12994    Lost: Temporada 1: Éxodo: Parte 1 (Capítulo 23)   \n",
              "12995    Lost: Temporada 1: Éxodo: Parte 1 (Capítulo 23)   \n",
              "12996    Lost: Temporada 1: Éxodo: Parte 1 (Capítulo 23)   \n",
              "\n",
              "      Supplemental Video Type                Device Type  Bookmark  \\\n",
              "0                         NaN  Apple Apple TV 4 Apple TV  00:02:55   \n",
              "1                         NaN  Apple Apple TV 4 Apple TV  00:21:33   \n",
              "2                         NaN  Apple Apple TV 4 Apple TV  00:21:28   \n",
              "3                         NaN  Apple Apple TV 4 Apple TV  00:21:02   \n",
              "4                         NaN  Apple Apple TV 4 Apple TV  00:21:21   \n",
              "...                       ...                        ...       ...   \n",
              "12992                     NaN       Apple TV 3 (revised)  00:04:40   \n",
              "12993                     NaN       Apple TV 3 (revised)  00:00:14   \n",
              "12994                     NaN       Apple TV 3 (revised)  00:00:37   \n",
              "12995                     NaN       Apple TV 3 (revised)  00:00:18   \n",
              "12996                     NaN       Apple TV 3 (revised)  00:00:18   \n",
              "\n",
              "       Latest Bookmark         Country  \n",
              "0             00:02:55  AR (Argentina)  \n",
              "1             00:21:33  AR (Argentina)  \n",
              "2             00:21:28  AR (Argentina)  \n",
              "3             00:21:02  AR (Argentina)  \n",
              "4             00:21:21  AR (Argentina)  \n",
              "...                ...             ...  \n",
              "12992  Not latest view  AR (Argentina)  \n",
              "12993  Not latest view  AR (Argentina)  \n",
              "12994  Not latest view  AR (Argentina)  \n",
              "12995  Not latest view  AR (Argentina)  \n",
              "12996  Not latest view  AR (Argentina)  \n",
              "\n",
              "[5963 rows x 11 columns]"
            ],
            "text/html": [
              "\n",
              "  <div id=\"df-b6e4ab47-82a2-4f1e-adee-b93ff40f3063\">\n",
              "    <div class=\"colab-df-container\">\n",
              "      <div>\n",
              "<style scoped>\n",
              "    .dataframe tbody tr th:only-of-type {\n",
              "        vertical-align: middle;\n",
              "    }\n",
              "\n",
              "    .dataframe tbody tr th {\n",
              "        vertical-align: top;\n",
              "    }\n",
              "\n",
              "    .dataframe thead th {\n",
              "        text-align: right;\n",
              "    }\n",
              "</style>\n",
              "<table border=\"1\" class=\"dataframe\">\n",
              "  <thead>\n",
              "    <tr style=\"text-align: right;\">\n",
              "      <th></th>\n",
              "      <th>Unnamed: 0</th>\n",
              "      <th>Profile Name</th>\n",
              "      <th>Start Time</th>\n",
              "      <th>Duration</th>\n",
              "      <th>Attributes</th>\n",
              "      <th>Title</th>\n",
              "      <th>Supplemental Video Type</th>\n",
              "      <th>Device Type</th>\n",
              "      <th>Bookmark</th>\n",
              "      <th>Latest Bookmark</th>\n",
              "      <th>Country</th>\n",
              "    </tr>\n",
              "  </thead>\n",
              "  <tbody>\n",
              "    <tr>\n",
              "      <th>0</th>\n",
              "      <td>0</td>\n",
              "      <td>Chona</td>\n",
              "      <td>2022-08-21 19:54:53</td>\n",
              "      <td>00:02:54</td>\n",
              "      <td>NaN</td>\n",
              "      <td>Community: Temporada 3: Teoría del caos correc...</td>\n",
              "      <td>NaN</td>\n",
              "      <td>Apple Apple TV 4 Apple TV</td>\n",
              "      <td>00:02:55</td>\n",
              "      <td>00:02:55</td>\n",
              "      <td>AR (Argentina)</td>\n",
              "    </tr>\n",
              "    <tr>\n",
              "      <th>1</th>\n",
              "      <td>1</td>\n",
              "      <td>Chona</td>\n",
              "      <td>2022-08-21 19:33:17</td>\n",
              "      <td>00:21:33</td>\n",
              "      <td>NaN</td>\n",
              "      <td>Community: Temporada 3: Ecología competitiva (...</td>\n",
              "      <td>NaN</td>\n",
              "      <td>Apple Apple TV 4 Apple TV</td>\n",
              "      <td>00:21:33</td>\n",
              "      <td>00:21:33</td>\n",
              "      <td>AR (Argentina)</td>\n",
              "    </tr>\n",
              "    <tr>\n",
              "      <th>2</th>\n",
              "      <td>2</td>\n",
              "      <td>Chona</td>\n",
              "      <td>2022-08-21 19:11:40</td>\n",
              "      <td>00:21:28</td>\n",
              "      <td>NaN</td>\n",
              "      <td>Community: Temporada 3: Geografía del conflict...</td>\n",
              "      <td>NaN</td>\n",
              "      <td>Apple Apple TV 4 Apple TV</td>\n",
              "      <td>00:21:28</td>\n",
              "      <td>00:21:28</td>\n",
              "      <td>AR (Argentina)</td>\n",
              "    </tr>\n",
              "    <tr>\n",
              "      <th>3</th>\n",
              "      <td>3</td>\n",
              "      <td>Chona</td>\n",
              "      <td>2022-08-21 18:50:27</td>\n",
              "      <td>00:20:41</td>\n",
              "      <td>NaN</td>\n",
              "      <td>Community: Temporada 2: Intermediate Documenta...</td>\n",
              "      <td>NaN</td>\n",
              "      <td>Apple Apple TV 4 Apple TV</td>\n",
              "      <td>00:21:02</td>\n",
              "      <td>00:21:02</td>\n",
              "      <td>AR (Argentina)</td>\n",
              "    </tr>\n",
              "    <tr>\n",
              "      <th>4</th>\n",
              "      <td>4</td>\n",
              "      <td>Chona</td>\n",
              "      <td>2022-08-21 18:16:34</td>\n",
              "      <td>00:21:20</td>\n",
              "      <td>NaN</td>\n",
              "      <td>Community: Temporada 3: El documental (Capítul...</td>\n",
              "      <td>NaN</td>\n",
              "      <td>Apple Apple TV 4 Apple TV</td>\n",
              "      <td>00:21:21</td>\n",
              "      <td>00:21:21</td>\n",
              "      <td>AR (Argentina)</td>\n",
              "    </tr>\n",
              "    <tr>\n",
              "      <th>...</th>\n",
              "      <td>...</td>\n",
              "      <td>...</td>\n",
              "      <td>...</td>\n",
              "      <td>...</td>\n",
              "      <td>...</td>\n",
              "      <td>...</td>\n",
              "      <td>...</td>\n",
              "      <td>...</td>\n",
              "      <td>...</td>\n",
              "      <td>...</td>\n",
              "      <td>...</td>\n",
              "    </tr>\n",
              "    <tr>\n",
              "      <th>12992</th>\n",
              "      <td>12992</td>\n",
              "      <td>Chona</td>\n",
              "      <td>2015-01-08 19:21:21</td>\n",
              "      <td>00:04:09</td>\n",
              "      <td>NaN</td>\n",
              "      <td>Lost: Temporada 1: Éxodo: Parte 1 (Capítulo 23)</td>\n",
              "      <td>NaN</td>\n",
              "      <td>Apple TV 3 (revised)</td>\n",
              "      <td>00:04:40</td>\n",
              "      <td>Not latest view</td>\n",
              "      <td>AR (Argentina)</td>\n",
              "    </tr>\n",
              "    <tr>\n",
              "      <th>12993</th>\n",
              "      <td>12993</td>\n",
              "      <td>Chona</td>\n",
              "      <td>2015-01-08 19:20:47</td>\n",
              "      <td>00:00:15</td>\n",
              "      <td>NaN</td>\n",
              "      <td>Lost: Temporada 1: Nacida para correr (Capítul...</td>\n",
              "      <td>NaN</td>\n",
              "      <td>Apple TV 3 (revised)</td>\n",
              "      <td>00:00:14</td>\n",
              "      <td>Not latest view</td>\n",
              "      <td>AR (Argentina)</td>\n",
              "    </tr>\n",
              "    <tr>\n",
              "      <th>12994</th>\n",
              "      <td>12994</td>\n",
              "      <td>Chona</td>\n",
              "      <td>2015-01-08 19:18:32</td>\n",
              "      <td>00:00:37</td>\n",
              "      <td>NaN</td>\n",
              "      <td>Lost: Temporada 1: Éxodo: Parte 1 (Capítulo 23)</td>\n",
              "      <td>NaN</td>\n",
              "      <td>Apple TV 3 (revised)</td>\n",
              "      <td>00:00:37</td>\n",
              "      <td>Not latest view</td>\n",
              "      <td>AR (Argentina)</td>\n",
              "    </tr>\n",
              "    <tr>\n",
              "      <th>12995</th>\n",
              "      <td>12995</td>\n",
              "      <td>Chona</td>\n",
              "      <td>2015-01-08 19:16:45</td>\n",
              "      <td>00:00:18</td>\n",
              "      <td>NaN</td>\n",
              "      <td>Lost: Temporada 1: Éxodo: Parte 1 (Capítulo 23)</td>\n",
              "      <td>NaN</td>\n",
              "      <td>Apple TV 3 (revised)</td>\n",
              "      <td>00:00:18</td>\n",
              "      <td>Not latest view</td>\n",
              "      <td>AR (Argentina)</td>\n",
              "    </tr>\n",
              "    <tr>\n",
              "      <th>12996</th>\n",
              "      <td>12996</td>\n",
              "      <td>Chona</td>\n",
              "      <td>2015-01-08 19:15:14</td>\n",
              "      <td>00:00:18</td>\n",
              "      <td>NaN</td>\n",
              "      <td>Lost: Temporada 1: Éxodo: Parte 1 (Capítulo 23)</td>\n",
              "      <td>NaN</td>\n",
              "      <td>Apple TV 3 (revised)</td>\n",
              "      <td>00:00:18</td>\n",
              "      <td>Not latest view</td>\n",
              "      <td>AR (Argentina)</td>\n",
              "    </tr>\n",
              "  </tbody>\n",
              "</table>\n",
              "<p>5963 rows × 11 columns</p>\n",
              "</div>\n",
              "      <button class=\"colab-df-convert\" onclick=\"convertToInteractive('df-b6e4ab47-82a2-4f1e-adee-b93ff40f3063')\"\n",
              "              title=\"Convert this dataframe to an interactive table.\"\n",
              "              style=\"display:none;\">\n",
              "        \n",
              "  <svg xmlns=\"http://www.w3.org/2000/svg\" height=\"24px\"viewBox=\"0 0 24 24\"\n",
              "       width=\"24px\">\n",
              "    <path d=\"M0 0h24v24H0V0z\" fill=\"none\"/>\n",
              "    <path d=\"M18.56 5.44l.94 2.06.94-2.06 2.06-.94-2.06-.94-.94-2.06-.94 2.06-2.06.94zm-11 1L8.5 8.5l.94-2.06 2.06-.94-2.06-.94L8.5 2.5l-.94 2.06-2.06.94zm10 10l.94 2.06.94-2.06 2.06-.94-2.06-.94-.94-2.06-.94 2.06-2.06.94z\"/><path d=\"M17.41 7.96l-1.37-1.37c-.4-.4-.92-.59-1.43-.59-.52 0-1.04.2-1.43.59L10.3 9.45l-7.72 7.72c-.78.78-.78 2.05 0 2.83L4 21.41c.39.39.9.59 1.41.59.51 0 1.02-.2 1.41-.59l7.78-7.78 2.81-2.81c.8-.78.8-2.07 0-2.86zM5.41 20L4 18.59l7.72-7.72 1.47 1.35L5.41 20z\"/>\n",
              "  </svg>\n",
              "      </button>\n",
              "      \n",
              "  <style>\n",
              "    .colab-df-container {\n",
              "      display:flex;\n",
              "      flex-wrap:wrap;\n",
              "      gap: 12px;\n",
              "    }\n",
              "\n",
              "    .colab-df-convert {\n",
              "      background-color: #E8F0FE;\n",
              "      border: none;\n",
              "      border-radius: 50%;\n",
              "      cursor: pointer;\n",
              "      display: none;\n",
              "      fill: #1967D2;\n",
              "      height: 32px;\n",
              "      padding: 0 0 0 0;\n",
              "      width: 32px;\n",
              "    }\n",
              "\n",
              "    .colab-df-convert:hover {\n",
              "      background-color: #E2EBFA;\n",
              "      box-shadow: 0px 1px 2px rgba(60, 64, 67, 0.3), 0px 1px 3px 1px rgba(60, 64, 67, 0.15);\n",
              "      fill: #174EA6;\n",
              "    }\n",
              "\n",
              "    [theme=dark] .colab-df-convert {\n",
              "      background-color: #3B4455;\n",
              "      fill: #D2E3FC;\n",
              "    }\n",
              "\n",
              "    [theme=dark] .colab-df-convert:hover {\n",
              "      background-color: #434B5C;\n",
              "      box-shadow: 0px 1px 3px 1px rgba(0, 0, 0, 0.15);\n",
              "      filter: drop-shadow(0px 1px 2px rgba(0, 0, 0, 0.3));\n",
              "      fill: #FFFFFF;\n",
              "    }\n",
              "  </style>\n",
              "\n",
              "      <script>\n",
              "        const buttonEl =\n",
              "          document.querySelector('#df-b6e4ab47-82a2-4f1e-adee-b93ff40f3063 button.colab-df-convert');\n",
              "        buttonEl.style.display =\n",
              "          google.colab.kernel.accessAllowed ? 'block' : 'none';\n",
              "\n",
              "        async function convertToInteractive(key) {\n",
              "          const element = document.querySelector('#df-b6e4ab47-82a2-4f1e-adee-b93ff40f3063');\n",
              "          const dataTable =\n",
              "            await google.colab.kernel.invokeFunction('convertToInteractive',\n",
              "                                                     [key], {});\n",
              "          if (!dataTable) return;\n",
              "\n",
              "          const docLinkHtml = 'Like what you see? Visit the ' +\n",
              "            '<a target=\"_blank\" href=https://colab.research.google.com/notebooks/data_table.ipynb>data table notebook</a>'\n",
              "            + ' to learn more about interactive tables.';\n",
              "          element.innerHTML = '';\n",
              "          dataTable['output_type'] = 'display_data';\n",
              "          await google.colab.output.renderOutput(dataTable, element);\n",
              "          const docLink = document.createElement('div');\n",
              "          docLink.innerHTML = docLinkHtml;\n",
              "          element.appendChild(docLink);\n",
              "        }\n",
              "      </script>\n",
              "    </div>\n",
              "  </div>\n",
              "  "
            ]
          },
          "metadata": {},
          "execution_count": 15
        }
      ],
      "source": [
        "n = int(input()) #Input\n",
        "\n",
        "banned = ['Sony ps4', 'Netflix Windows App - Cadmium Windows Mobile','Apple iPhone 6s','Apple iPhone 7 Plus (CDMA)','Chrome PC (Cadmium)', 'Samsung 2015 NT14M DTV Smart TV','iPhone 5S GSM','Google Chromecast V3 Streaming Stick']\n",
        "df = pd.read_csv(\"NetflixHistory.csv\") # Cargar el CSV\n",
        "for i in banned: # Recorre la lista de los dispositivos baneados\n",
        "  df = df.drop(df[df['Device Type'] == i].index) # Elimina los indices que tengan los dispositivos baneados\n",
        "series = df['Title'] #Columna que represente a las series\n",
        "\n",
        "for i in series:\n",
        "  if i.count(\":\") > 2 or i.__contains__(\"Temporada\") or i.__contains__(\"Season\") or i.__contains__(\"Capítulo\"):\n",
        "    pass\n",
        "  else:\n",
        "    df = df.drop(df[series == i].index)\n",
        "#Si un titulo no cuenta con más de 2 dos puntos, o no tiene la palabra temporada, \n",
        "#season, o capitulo, es porque no es una serie, asi que lo eliminamos del df\n",
        "#Ahora el df y la columna de titulos (variable series) reflejan las series unicamente\n",
        "\n",
        "df"
      ]
    },
    {
      "cell_type": "markdown",
      "metadata": {
        "id": "gCwp4fz5TmYz"
      },
      "source": [
        "###1 - Por tiempo visto"
      ]
    },
    {
      "cell_type": "code",
      "execution_count": 30,
      "metadata": {
        "id": "T6zN3C5WTZ3A",
        "colab": {
          "base_uri": "https://localhost:8080/",
          "height": 607
        },
        "outputId": "ba6c1591-dfba-457b-e3bd-40754249fe20"
      },
      "outputs": [
        {
          "output_type": "display_data",
          "data": {
            "text/plain": [
              "<Figure size 1152x576 with 1 Axes>"
            ],
            "image/png": "[encoded data removed]"
          },
          "metadata": {
            "needs_background": "light"
          }
        }
      ],
      "source": [
        "nombresub = lambda sub: sub.split(':')[0] #funcion lambda que corta hasta el ':' del valor dado\n",
        "df['Title'] = df['Title'].apply(nombresub).to_frame() #se lo aplicamos a las series, de tal forma que solo queden sus nombres\n",
        "\n",
        "def convertir_a_segs(row):\n",
        "    h, m, s = row.split(':')\n",
        "    return int(h) * 3600 + int(m) * 60 + int(s)\n",
        "\n",
        "df['sec'] = df['Duration'].apply(convertir_a_segs) \n",
        "#creamos una funcion que convierta los valores la columna de duracion en HH:MM:SS\n",
        "#a segundos, y lo ponemos en una nuevae columna 'sec'. esto para tener todas las series en un valor numerico igual\n",
        "\n",
        "grp = df.groupby('Title')\n",
        "result = grp['sec'].sum()\n",
        "result = result.sort_values(ascending=False).head(n)\n",
        "#agrupamos las series y sumamos sus segundos, para despues sortear las n series de mayor a menor\n",
        "\n",
        "plt.figure(figsize=(n*2,n))\n",
        "result.plot.bar()\n",
        "plt.xlabel('Series', fontSize=15)\n",
        "plt.xticks(rotation=45)\n",
        "plt.ylabel('Tiempo visto (en segs.)', fontSize=15)\n",
        "plt.title(\"Top \"+str(n)+\" series más vistas (en segs.)\", fontSize=20)\n",
        "plt.show()\n",
        "#graficamos"
      ]
    },
    {
      "cell_type": "markdown",
      "metadata": {
        "id": "CNJxBQTcTdrz"
      },
      "source": [
        "###2 - Por Ocurrencias"
      ]
    },
    {
      "cell_type": "code",
      "execution_count": 31,
      "metadata": {
        "id": "jlK5lRHpMYNI",
        "colab": {
          "base_uri": "https://localhost:8080/",
          "height": 607
        },
        "outputId": "1ea6e175-32bb-45a8-d30c-e3c7eaa7d663"
      },
      "outputs": [
        {
          "output_type": "display_data",
          "data": {
            "text/plain": [
              "<Figure size 1152x576 with 1 Axes>"
            ],
            "image/png": "[encoded data removed]"
          },
          "metadata": {
            "needs_background": "light"
          }
        }
      ],
      "source": [
        "nombresub = lambda sub: sub.split(':')[0] #funcion lambda que corta hasta el ':' del valor dado\n",
        "df['Title'] = df['Title'].apply(nombresub).to_frame() #se lo aplicamos a las series, de tal forma que solo queden sus nombres\n",
        "seriesOcc = df['Title'].value_counts().head(n) #contabilizamos las apariciones con value_counts(), y con head(n) que sean las n series \n",
        "\n",
        "plt.figure(figsize=(n*2,n))\n",
        "seriesOcc.plot.bar()\n",
        "plt.xlabel('Series', fontSize=15)\n",
        "plt.xticks(rotation=45)\n",
        "plt.ylabel('Ocurrencias', fontSize=15)\n",
        "plt.title(\"Top \"+str(n)+\" series más ocurrentes\", fontSize=20)\n",
        "plt.show()\n",
        "#graficamos"
      ]
    },
    {
      "cell_type": "markdown",
      "metadata": {
        "id": "xx0H2XkOLW_G"
      },
      "source": [
        "# Ejercicio D\n",
        "\n",
        "###Visualizar una semana de reproducciones genérica, en función a las reproducciones por día y por horario de todos los años.\n"
      ]
    },
    {
      "cell_type": "code",
      "execution_count": 27,
      "metadata": {
        "id": "cDEZdQG1LgmY",
        "colab": {
          "base_uri": "https://localhost:8080/",
          "height": 309
        },
        "outputId": "3aace7de-c3f1-4821-ef69-9a34a7fa0b5b"
      },
      "outputs": [
        {
          "output_type": "display_data",
          "data": {
            "text/plain": [
              "<Figure size 432x288 with 1 Axes>"
            ],
            "image/png": "[encoded data removed]"
          },
          "metadata": {
            "needs_background": "light"
          }
        }
      ],
      "source": [
        "matrix = np.zeros((24,7)) # Creamos una matriz por el numero de hora y de dias a la semana que contenga zeros\n",
        "\n",
        "def getDate(data): # Funcion que es recorrida por pandas\n",
        "  date = datetime.strptime(data,'%Y-%m-%d %H:%M:%S') # Lo convertimos en formato DateTime\n",
        "  day = date.weekday() # Obtenemos el dia \n",
        "  time = date.hour # Obtenemos la hora \n",
        "  matrix[time][day] += 1 # Sumamos\n",
        "\n",
        "df[\"Start Time\"].apply(getDate) # Se le aplica a todo\n",
        "# Se muestra el mapa de color\n",
        "plt.title(\"Watch Time\", color=\"blue\", fontsize=20)\n",
        "plt.xlabel(\"Days\", color=\"blue\", fontsize=20)\n",
        "plt.ylabel(\"Hours\", color=\"blue\", fontsize=20)\n",
        "map = plt.pcolormesh(matrix) \n",
        "plt.show()"
      ]
    },
    {
      "cell_type": "markdown",
      "metadata": {
        "id": "r5A0f1QFlL3t"
      },
      "source": [
        "# Ejercicio E"
      ]
    },
    {
      "cell_type": "code",
      "execution_count": 24,
      "metadata": {
        "id": "6EQJbpaUlVgt",
        "colab": {
          "base_uri": "https://localhost:8080/",
          "height": 281
        },
        "outputId": "10072aba-eca2-4cec-f0fb-5b3f542783c4"
      },
      "outputs": [
        {
          "output_type": "display_data",
          "data": {
            "text/plain": [
              "<Figure size 432x288 with 1 Axes>"
            ],
            "image/png": "[encoded data removed]"
          },
          "metadata": {
            "needs_background": "light"
          }
        }
      ],
      "source": [
        "banned = ['Sony ps4', 'Netflix Windows App - Cadmium Windows Mobile','Apple iPhone 6s','Apple iPhone 7 Plus (CDMA)','Chrome PC (Cadmium)', 'Samsung 2015 NT14M DTV Smart TV','iPhone 5S GSM','Google Chromecast V3 Streaming Stick']\n",
        "df = pd.read_csv(\"NetflixHistory.csv\") # Cargar el CSV\n",
        "for i in banned: # Recorre la lista de los dispositivos baneados\n",
        "  df = df.drop(df[df['Device Type'] == i].index) # Elimina los indices que tengan los dispositivos baneados\n",
        "year = [2022, 2021,2020,2019, 2018,2017,2016,2015]\n",
        "count = []\n",
        "\n",
        "for i in year: \n",
        "  date = df['Start Time'].astype('datetime64[ns]')\n",
        "  count.append(df[date > datetime.strptime(str(i),'%Y')].shape[0])\n",
        "plt.title(\"Time Watch\")\n",
        "plt.plot(year,count)\n",
        "plt.show()"
      ]
    },
    {
      "cell_type": "markdown",
      "metadata": {
        "id": "sbcEWeZasrMO"
      },
      "source": [
        "# Ejercicio F\n",
        "### Total de días de todos los títulos reproducidos.\n"
      ]
    },
    {
      "cell_type": "code",
      "execution_count": 23,
      "metadata": {
        "id": "wfdncq55szNM",
        "colab": {
          "base_uri": "https://localhost:8080/"
        },
        "outputId": "47fd62f4-cc95-4848-f353-0d9efa656312"
      },
      "outputs": [
        {
          "output_type": "stream",
          "name": "stdout",
          "text": [
            "Los dias totales de visualizacion son 101 dias.\n"
          ]
        }
      ],
      "source": [
        "banned = ['Sony ps4', 'Netflix Windows App - Cadmium Windows Mobile','Apple iPhone 6s','Apple iPhone 7 Plus (CDMA)','Chrome PC (Cadmium)', 'Samsung 2015 NT14M DTV Smart TV','iPhone 5S GSM','Google Chromecast V3 Streaming Stick']\n",
        "df = pd.read_csv(\"NetflixHistory.csv\") # Cargar el CSV\n",
        "for i in banned: # Recorre la lista de los dispositivos baneados\n",
        "  df = df.drop(df[df['Device Type'] == i].index) # Elimina los indices que tengan los dispositivos baneados\n",
        "hours = []\n",
        "for i in df['Duration']:\n",
        "  time = i.split(':')\n",
        "  hours.append(int(time[0]) + int(time[1]) / 60 + (int(time[2]) / 60) / 60)\n",
        "print(\"Los dias totales de visualizacion son\", round(sum(hours) / 24), \"dias.\")"
      ]
    }
  ],
  "metadata": {
    "colab": {
      "collapsed_sections": [
        "H-fh8mtpm7ad"
      ],
      "provenance": []
    },
    "kernelspec": {
      "display_name": "Python 3",
      "name": "python3"
    },
    "language_info": {
      "name": "python"
    }
  },
  "nbformat": 4,
  "nbformat_minor": 0
}